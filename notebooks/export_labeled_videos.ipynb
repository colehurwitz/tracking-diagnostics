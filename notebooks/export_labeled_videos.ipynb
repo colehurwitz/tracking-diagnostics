{
 "cells": [
  {
   "cell_type": "markdown",
   "metadata": {},
   "source": [
    "## Export diagnostic videos"
   ]
  },
  {
   "cell_type": "code",
   "execution_count": null,
   "metadata": {},
   "outputs": [],
   "source": [
    "import cv2\n",
    "import matplotlib.pyplot as plt\n",
    "import numpy as np\n",
    "import os\n",
    "import pandas as pd\n",
    "import shutil\n",
    "\n",
    "from diagnostics.video import make_labeled_video_wrapper"
   ]
  },
  {
   "cell_type": "markdown",
   "metadata": {},
   "source": [
    "### Video frames, markers, and labels"
   ]
  },
  {
   "cell_type": "code",
   "execution_count": null,
   "metadata": {},
   "outputs": [],
   "source": [
    "# video to plot predictions on top of\n",
    "video_name = \"180727_001.mp4\"\n",
    "video = \"/home/jovyan/clips/%s\" % video_name\n",
    "assert(os.path.exists(video))\n",
    "\n",
    "# list of csv files, one for each set of predictions\n",
    "csvs = [\"/home/jovyan/pred_vids/180727_001_heatmap.csv\",\"/home/jovyan/pred_vids/180727_001_heatmap_pca_singleview_7.250.csv\",\"/home/jovyan/pred_vids/180727_001_heatmap_temporal_7.5_pca_singleview_7.25.csv\"]\n",
    "for csv in csvs:\n",
    "    assert os.path.exists(csv)\n",
    "\n",
    "# legend names for each model in `csvs`\n",
    "model_names = [\"supervised\", \"pca_single\", \"pca_single_temporal\"]\n",
    "\n",
    "# save labeled video in same dir as original video with this appended to filename\n",
    "combo_name = \"compare_pca_w_temporal\"\n",
    "\n",
    "make_labeled_video_wrapper(\n",
    "    csvs=csvs, model_names=model_names, video=video, save_file=combo_name,\n",
    "    likelihood_thresh=0.05, max_frames=500, markersize=6, framerate=20, height=4\n",
    ")"
   ]
  },
  {
   "cell_type": "code",
   "execution_count": null,
   "metadata": {},
   "outputs": [],
   "source": []
  }
 ],
 "metadata": {
  "interpreter": {
   "hash": "b2db7ebd2a6eaabbedad5619cf81ba50362feaaec41f65baf0d1ccad0b63e6ce"
  },
  "kernelspec": {
   "display_name": "pose",
   "language": "python",
   "name": "pose"
  },
  "language_info": {
   "codemirror_mode": {
    "name": "ipython",
    "version": 3
   },
   "file_extension": ".py",
   "mimetype": "text/x-python",
   "name": "python",
   "nbconvert_exporter": "python",
   "pygments_lexer": "ipython3",
   "version": "3.9.7"
  }
 },
 "nbformat": 4,
 "nbformat_minor": 2
}

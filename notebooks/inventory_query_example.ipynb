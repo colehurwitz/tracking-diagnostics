{
 "cells": [
  {
   "cell_type": "code",
   "execution_count": 1,
   "metadata": {},
   "outputs": [],
   "source": [
    "import pandas as pd\n",
    "import numpy as np\n",
    "import os \n",
    "import omegaconf\n",
    "import hydra\n",
    "from diagnostics.io import get_base_config"
   ]
  },
  {
   "cell_type": "code",
   "execution_count": 2,
   "metadata": {},
   "outputs": [],
   "source": [
    "from diagnostics.inventory import ModelInventoryBuilder, QueryBuilder"
   ]
  },
  {
   "cell_type": "markdown",
   "metadata": {},
   "source": [
    "Steps:\n",
    "1. load our hydra cfg (start with 1 and extend)\n",
    "2. flatten hierarchy.\n",
    "3. make into a df (optionally append more).\n",
    "4. build queries.\n"
   ]
  },
  {
   "cell_type": "code",
   "execution_count": 3,
   "metadata": {},
   "outputs": [],
   "source": [
    "model_inventory = ModelInventoryBuilder(\"/home/jovyan/grid_artifacts\")"
   ]
  },
  {
   "cell_type": "code",
   "execution_count": 4,
   "metadata": {},
   "outputs": [
    {
     "name": "stdout",
     "output_type": "stream",
     "text": [
      "Building model registry from 789 configs...\n"
     ]
    },
    {
     "name": "stderr",
     "output_type": "stream",
     "text": [
      "100%|██████████| 789/789 [00:28<00:00, 27.98it/s]\n"
     ]
    }
   ],
   "source": [
    "total_df = model_inventory.build_dframe()"
   ]
  },
  {
   "cell_type": "code",
   "execution_count": 6,
   "metadata": {},
   "outputs": [
    {
     "name": "stdout",
     "output_type": "stream",
     "text": [
      "(`training.rng_seed_data_pt` == '0') and (`model.losses_to_use` == '[pca_singleview]') and (timestamp >= '2022-07-15' and timestamp <= '2022-07-20')\n"
     ]
    }
   ],
   "source": [
    "query_builder = QueryBuilder(total_df)\n",
    "# query_builder.add_query(\"dali.context.train.consecutive_sequences\", \"==\", \"True\")\n",
    "query_builder.add_query(\"training.rng_seed_data_pt\", \"==\", \"0\")\n",
    "query_builder.add_query(\"model.losses_to_use\", \"==\", \"[pca_singleview]\")\n",
    "query_builder.add_timestamp_query(\"2022-07-15\", \"2022-07-20\")\n",
    "print(query_builder.combine_queries(\"and\"))"
   ]
  },
  {
   "cell_type": "code",
   "execution_count": 7,
   "metadata": {},
   "outputs": [],
   "source": [
    "queried_df = total_df.query(query_builder.combine_queries(\"and\"))"
   ]
  },
  {
   "cell_type": "code",
   "execution_count": 8,
   "metadata": {},
   "outputs": [
    {
     "data": {
      "text/plain": [
       "(80, 97)"
      ]
     },
     "execution_count": 8,
     "metadata": {},
     "output_type": "execute_result"
    }
   ],
   "source": [
    "queried_df.shape"
   ]
  },
  {
   "cell_type": "code",
   "execution_count": 186,
   "metadata": {},
   "outputs": [
    {
     "data": {
      "text/plain": [
       "0   2022-07-20 21:40:42\n",
       "0   2022-07-20 21:41:35\n",
       "0   2022-07-20 21:38:58\n",
       "0   2022-07-20 21:44:53\n",
       "0   2022-07-20 21:39:48\n",
       "0   2022-07-20 21:40:49\n",
       "0   2022-07-20 21:44:45\n",
       "0   2022-07-20 21:43:02\n",
       "0   2022-07-20 21:41:27\n",
       "0   2022-07-20 21:44:03\n",
       "0   2022-07-20 21:39:57\n",
       "0   2022-07-20 21:39:06\n",
       "0   2022-07-20 21:43:54\n",
       "0   2022-07-20 21:42:24\n",
       "0   2022-07-20 21:43:10\n",
       "0   2022-07-20 21:42:17\n",
       "Name: timestamp, dtype: datetime64[ns]"
      ]
     },
     "execution_count": 186,
     "metadata": {},
     "output_type": "execute_result"
    }
   ],
   "source": [
    "queried_df[\"timestamp\"]\n",
    "#queried_df.query(\"timestamp > `2020-07-19`\")"
   ]
  },
  {
   "cell_type": "markdown",
   "metadata": {},
   "source": []
  }
 ],
 "metadata": {
  "kernelspec": {
   "display_name": "Python 3.8.8 ('base': conda)",
   "language": "python",
   "name": "python3"
  },
  "language_info": {
   "codemirror_mode": {
    "name": "ipython",
    "version": 3
   },
   "file_extension": ".py",
   "mimetype": "text/x-python",
   "name": "python",
   "nbconvert_exporter": "python",
   "pygments_lexer": "ipython3",
   "version": "3.8.8"
  },
  "orig_nbformat": 4,
  "vscode": {
   "interpreter": {
    "hash": "b2db7ebd2a6eaabbedad5619cf81ba50362feaaec41f65baf0d1ccad0b63e6ce"
   }
  }
 },
 "nbformat": 4,
 "nbformat_minor": 2
}
